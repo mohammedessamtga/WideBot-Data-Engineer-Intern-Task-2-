{
 "cells": [
  {
   "cell_type": "code",
   "execution_count": 1,
   "metadata": {},
   "outputs": [],
   "source": [
    "import os \n",
    "import pandas as pd \n",
    "import numpy as np \n",
    "import matplotlib.pyplot as plt \n",
    "import seaborn as sns\n",
    "from sklearn.tree import DecisionTreeClassifier\n",
    "from xgboost import XGBClassifier\n",
    "%matplotlib inline "
   ]
  },
  {
   "cell_type": "code",
   "execution_count": 2,
   "metadata": {},
   "outputs": [],
   "source": [
    "os.chdir('C:/Users/Essam/Desktop/WideBot')"
   ]
  },
  {
   "cell_type": "markdown",
   "metadata": {},
   "source": [
    "# Investigate Data "
   ]
  },
  {
   "cell_type": "code",
   "execution_count": 3,
   "metadata": {},
   "outputs": [],
   "source": [
    "data = pd.read_csv('training.csv',delimiter=';')"
   ]
  },
  {
   "cell_type": "code",
   "execution_count": 4,
   "metadata": {},
   "outputs": [
    {
     "data": {
      "text/html": [
       "<div>\n",
       "<style scoped>\n",
       "    .dataframe tbody tr th:only-of-type {\n",
       "        vertical-align: middle;\n",
       "    }\n",
       "\n",
       "    .dataframe tbody tr th {\n",
       "        vertical-align: top;\n",
       "    }\n",
       "\n",
       "    .dataframe thead th {\n",
       "        text-align: right;\n",
       "    }\n",
       "</style>\n",
       "<table border=\"1\" class=\"dataframe\">\n",
       "  <thead>\n",
       "    <tr style=\"text-align: right;\">\n",
       "      <th></th>\n",
       "      <th>variable1</th>\n",
       "      <th>variable2</th>\n",
       "      <th>variable3</th>\n",
       "      <th>variable4</th>\n",
       "      <th>variable5</th>\n",
       "      <th>variable6</th>\n",
       "      <th>variable7</th>\n",
       "      <th>variable8</th>\n",
       "      <th>variable9</th>\n",
       "      <th>variable10</th>\n",
       "      <th>variable11</th>\n",
       "      <th>variable12</th>\n",
       "      <th>variable13</th>\n",
       "      <th>variable14</th>\n",
       "      <th>variable15</th>\n",
       "      <th>variable17</th>\n",
       "      <th>variable18</th>\n",
       "      <th>variable19</th>\n",
       "      <th>classLabel</th>\n",
       "    </tr>\n",
       "  </thead>\n",
       "  <tbody>\n",
       "    <tr>\n",
       "      <th>0</th>\n",
       "      <td>a</td>\n",
       "      <td>17,92</td>\n",
       "      <td>5,4e-05</td>\n",
       "      <td>u</td>\n",
       "      <td>g</td>\n",
       "      <td>c</td>\n",
       "      <td>v</td>\n",
       "      <td>1,75</td>\n",
       "      <td>f</td>\n",
       "      <td>t</td>\n",
       "      <td>1</td>\n",
       "      <td>t</td>\n",
       "      <td>g</td>\n",
       "      <td>80.0</td>\n",
       "      <td>5</td>\n",
       "      <td>800000.0</td>\n",
       "      <td>t</td>\n",
       "      <td>0</td>\n",
       "      <td>no.</td>\n",
       "    </tr>\n",
       "    <tr>\n",
       "      <th>1</th>\n",
       "      <td>b</td>\n",
       "      <td>16,92</td>\n",
       "      <td>3,35e-05</td>\n",
       "      <td>y</td>\n",
       "      <td>p</td>\n",
       "      <td>k</td>\n",
       "      <td>v</td>\n",
       "      <td>0,29</td>\n",
       "      <td>f</td>\n",
       "      <td>f</td>\n",
       "      <td>0</td>\n",
       "      <td>f</td>\n",
       "      <td>s</td>\n",
       "      <td>200.0</td>\n",
       "      <td>0</td>\n",
       "      <td>2000000.0</td>\n",
       "      <td>NaN</td>\n",
       "      <td>0</td>\n",
       "      <td>no.</td>\n",
       "    </tr>\n",
       "    <tr>\n",
       "      <th>2</th>\n",
       "      <td>b</td>\n",
       "      <td>31,25</td>\n",
       "      <td>0,0001125</td>\n",
       "      <td>u</td>\n",
       "      <td>g</td>\n",
       "      <td>ff</td>\n",
       "      <td>ff</td>\n",
       "      <td>0</td>\n",
       "      <td>f</td>\n",
       "      <td>t</td>\n",
       "      <td>1</td>\n",
       "      <td>f</td>\n",
       "      <td>g</td>\n",
       "      <td>96.0</td>\n",
       "      <td>19</td>\n",
       "      <td>960000.0</td>\n",
       "      <td>t</td>\n",
       "      <td>0</td>\n",
       "      <td>no.</td>\n",
       "    </tr>\n",
       "    <tr>\n",
       "      <th>3</th>\n",
       "      <td>a</td>\n",
       "      <td>48,17</td>\n",
       "      <td>0,0001335</td>\n",
       "      <td>u</td>\n",
       "      <td>g</td>\n",
       "      <td>i</td>\n",
       "      <td>o</td>\n",
       "      <td>0,335</td>\n",
       "      <td>f</td>\n",
       "      <td>f</td>\n",
       "      <td>0</td>\n",
       "      <td>f</td>\n",
       "      <td>g</td>\n",
       "      <td>0.0</td>\n",
       "      <td>120</td>\n",
       "      <td>0.0</td>\n",
       "      <td>NaN</td>\n",
       "      <td>0</td>\n",
       "      <td>no.</td>\n",
       "    </tr>\n",
       "    <tr>\n",
       "      <th>4</th>\n",
       "      <td>b</td>\n",
       "      <td>32,33</td>\n",
       "      <td>0,00035</td>\n",
       "      <td>u</td>\n",
       "      <td>g</td>\n",
       "      <td>k</td>\n",
       "      <td>v</td>\n",
       "      <td>0,5</td>\n",
       "      <td>f</td>\n",
       "      <td>f</td>\n",
       "      <td>0</td>\n",
       "      <td>t</td>\n",
       "      <td>g</td>\n",
       "      <td>232.0</td>\n",
       "      <td>0</td>\n",
       "      <td>2320000.0</td>\n",
       "      <td>f</td>\n",
       "      <td>0</td>\n",
       "      <td>no.</td>\n",
       "    </tr>\n",
       "  </tbody>\n",
       "</table>\n",
       "</div>"
      ],
      "text/plain": [
       "  variable1 variable2  variable3 variable4 variable5 variable6 variable7  \\\n",
       "0         a     17,92    5,4e-05         u         g         c         v   \n",
       "1         b     16,92   3,35e-05         y         p         k         v   \n",
       "2         b     31,25  0,0001125         u         g        ff        ff   \n",
       "3         a     48,17  0,0001335         u         g         i         o   \n",
       "4         b     32,33    0,00035         u         g         k         v   \n",
       "\n",
       "  variable8 variable9 variable10  variable11 variable12 variable13  \\\n",
       "0      1,75         f          t           1          t          g   \n",
       "1      0,29         f          f           0          f          s   \n",
       "2         0         f          t           1          f          g   \n",
       "3     0,335         f          f           0          f          g   \n",
       "4       0,5         f          f           0          t          g   \n",
       "\n",
       "   variable14  variable15  variable17 variable18  variable19 classLabel  \n",
       "0        80.0           5    800000.0          t           0        no.  \n",
       "1       200.0           0   2000000.0        NaN           0        no.  \n",
       "2        96.0          19    960000.0          t           0        no.  \n",
       "3         0.0         120         0.0        NaN           0        no.  \n",
       "4       232.0           0   2320000.0          f           0        no.  "
      ]
     },
     "execution_count": 4,
     "metadata": {},
     "output_type": "execute_result"
    }
   ],
   "source": [
    "data.head()"
   ]
  },
  {
   "cell_type": "code",
   "execution_count": 5,
   "metadata": {},
   "outputs": [
    {
     "name": "stdout",
     "output_type": "stream",
     "text": [
      "<class 'pandas.core.frame.DataFrame'>\n",
      "RangeIndex: 3700 entries, 0 to 3699\n",
      "Data columns (total 19 columns):\n",
      " #   Column      Non-Null Count  Dtype  \n",
      "---  ------      --------------  -----  \n",
      " 0   variable1   3661 non-null   object \n",
      " 1   variable2   3661 non-null   object \n",
      " 2   variable3   3700 non-null   object \n",
      " 3   variable4   3636 non-null   object \n",
      " 4   variable5   3636 non-null   object \n",
      " 5   variable6   3634 non-null   object \n",
      " 6   variable7   3634 non-null   object \n",
      " 7   variable8   3700 non-null   object \n",
      " 8   variable9   3700 non-null   object \n",
      " 9   variable10  3700 non-null   object \n",
      " 10  variable11  3700 non-null   int64  \n",
      " 11  variable12  3700 non-null   object \n",
      " 12  variable13  3700 non-null   object \n",
      " 13  variable14  3600 non-null   float64\n",
      " 14  variable15  3700 non-null   int64  \n",
      " 15  variable17  3600 non-null   float64\n",
      " 16  variable18  1555 non-null   object \n",
      " 17  variable19  3700 non-null   int64  \n",
      " 18  classLabel  3700 non-null   object \n",
      "dtypes: float64(2), int64(3), object(14)\n",
      "memory usage: 549.3+ KB\n"
     ]
    }
   ],
   "source": [
    "data.info()"
   ]
  },
  {
   "cell_type": "markdown",
   "metadata": {},
   "source": [
    "View variables distribution "
   ]
  },
  {
   "cell_type": "code",
   "execution_count": 6,
   "metadata": {},
   "outputs": [
    {
     "data": {
      "text/plain": [
       "array([[<matplotlib.axes._subplots.AxesSubplot object at 0x0000021181968D48>,\n",
       "        <matplotlib.axes._subplots.AxesSubplot object at 0x00000211818CDE88>],\n",
       "       [<matplotlib.axes._subplots.AxesSubplot object at 0x000002118190AE48>,\n",
       "        <matplotlib.axes._subplots.AxesSubplot object at 0x0000021181994F08>],\n",
       "       [<matplotlib.axes._subplots.AxesSubplot object at 0x00000211819CAF08>,\n",
       "        <matplotlib.axes._subplots.AxesSubplot object at 0x0000021181A08088>]],\n",
       "      dtype=object)"
      ]
     },
     "execution_count": 6,
     "metadata": {},
     "output_type": "execute_result"
    },
    {
     "data": {
      "image/png": "[encoded data removed]",
      "text/plain": [
       "<Figure size 720x1080 with 6 Axes>"
      ]
     },
     "metadata": {
      "needs_background": "light"
     },
     "output_type": "display_data"
    }
   ],
   "source": [
    "data.hist(figsize=(10,15))"
   ]
  },
  {
   "cell_type": "code",
   "execution_count": 7,
   "metadata": {},
   "outputs": [
    {
     "data": {
      "text/plain": [
       "<matplotlib.axes._subplots.AxesSubplot at 0x21181f1f108>"
      ]
     },
     "execution_count": 7,
     "metadata": {},
     "output_type": "execute_result"
    },
    {
     "data": {
      "image/png": "[encoded data removed]",
      "text/plain": [
       "<Figure size 432x288 with 1 Axes>"
      ]
     },
     "metadata": {
      "needs_background": "light"
     },
     "output_type": "display_data"
    }
   ],
   "source": [
    "# Plot target column\n",
    "sns.countplot(x='classLabel',data=data)"
   ]
  },
  {
   "cell_type": "code",
   "execution_count": 8,
   "metadata": {},
   "outputs": [
    {
     "data": {
      "text/html": [
       "<div>\n",
       "<style scoped>\n",
       "    .dataframe tbody tr th:only-of-type {\n",
       "        vertical-align: middle;\n",
       "    }\n",
       "\n",
       "    .dataframe tbody tr th {\n",
       "        vertical-align: top;\n",
       "    }\n",
       "\n",
       "    .dataframe thead th {\n",
       "        text-align: right;\n",
       "    }\n",
       "</style>\n",
       "<table border=\"1\" class=\"dataframe\">\n",
       "  <thead>\n",
       "    <tr style=\"text-align: right;\">\n",
       "      <th></th>\n",
       "      <th>variable1</th>\n",
       "      <th>variable2</th>\n",
       "      <th>variable3</th>\n",
       "      <th>variable4</th>\n",
       "      <th>variable5</th>\n",
       "      <th>variable6</th>\n",
       "      <th>variable7</th>\n",
       "      <th>variable8</th>\n",
       "      <th>variable9</th>\n",
       "      <th>variable10</th>\n",
       "      <th>variable11</th>\n",
       "      <th>variable12</th>\n",
       "      <th>variable13</th>\n",
       "      <th>variable14</th>\n",
       "      <th>variable15</th>\n",
       "      <th>variable17</th>\n",
       "      <th>variable18</th>\n",
       "      <th>variable19</th>\n",
       "      <th>classLabel</th>\n",
       "    </tr>\n",
       "  </thead>\n",
       "  <tbody>\n",
       "    <tr>\n",
       "      <th>3695</th>\n",
       "      <td>a</td>\n",
       "      <td>18,75</td>\n",
       "      <td>0,00075</td>\n",
       "      <td>u</td>\n",
       "      <td>g</td>\n",
       "      <td>q</td>\n",
       "      <td>v</td>\n",
       "      <td>2,71</td>\n",
       "      <td>t</td>\n",
       "      <td>t</td>\n",
       "      <td>5</td>\n",
       "      <td>f</td>\n",
       "      <td>g</td>\n",
       "      <td>NaN</td>\n",
       "      <td>26726</td>\n",
       "      <td>NaN</td>\n",
       "      <td>t</td>\n",
       "      <td>1</td>\n",
       "      <td>yes.</td>\n",
       "    </tr>\n",
       "    <tr>\n",
       "      <th>3696</th>\n",
       "      <td>a</td>\n",
       "      <td>23,5</td>\n",
       "      <td>9e-04</td>\n",
       "      <td>u</td>\n",
       "      <td>g</td>\n",
       "      <td>q</td>\n",
       "      <td>v</td>\n",
       "      <td>8,5</td>\n",
       "      <td>t</td>\n",
       "      <td>t</td>\n",
       "      <td>5</td>\n",
       "      <td>t</td>\n",
       "      <td>g</td>\n",
       "      <td>120.0</td>\n",
       "      <td>0</td>\n",
       "      <td>1200000.0</td>\n",
       "      <td>t</td>\n",
       "      <td>1</td>\n",
       "      <td>yes.</td>\n",
       "    </tr>\n",
       "    <tr>\n",
       "      <th>3697</th>\n",
       "      <td>b</td>\n",
       "      <td>34,17</td>\n",
       "      <td>0,000917</td>\n",
       "      <td>u</td>\n",
       "      <td>g</td>\n",
       "      <td>c</td>\n",
       "      <td>v</td>\n",
       "      <td>4,5</td>\n",
       "      <td>t</td>\n",
       "      <td>t</td>\n",
       "      <td>12</td>\n",
       "      <td>t</td>\n",
       "      <td>g</td>\n",
       "      <td>0.0</td>\n",
       "      <td>221</td>\n",
       "      <td>0.0</td>\n",
       "      <td>NaN</td>\n",
       "      <td>1</td>\n",
       "      <td>yes.</td>\n",
       "    </tr>\n",
       "    <tr>\n",
       "      <th>3698</th>\n",
       "      <td>b</td>\n",
       "      <td>27,83</td>\n",
       "      <td>0,000154</td>\n",
       "      <td>u</td>\n",
       "      <td>g</td>\n",
       "      <td>W</td>\n",
       "      <td>v</td>\n",
       "      <td>3,75</td>\n",
       "      <td>t</td>\n",
       "      <td>t</td>\n",
       "      <td>5</td>\n",
       "      <td>t</td>\n",
       "      <td>g</td>\n",
       "      <td>100.0</td>\n",
       "      <td>3</td>\n",
       "      <td>1000000.0</td>\n",
       "      <td>NaN</td>\n",
       "      <td>1</td>\n",
       "      <td>yes.</td>\n",
       "    </tr>\n",
       "    <tr>\n",
       "      <th>3699</th>\n",
       "      <td>a</td>\n",
       "      <td>36,75</td>\n",
       "      <td>0,0005125</td>\n",
       "      <td>u</td>\n",
       "      <td>g</td>\n",
       "      <td>e</td>\n",
       "      <td>v</td>\n",
       "      <td>5</td>\n",
       "      <td>t</td>\n",
       "      <td>f</td>\n",
       "      <td>0</td>\n",
       "      <td>t</td>\n",
       "      <td>g</td>\n",
       "      <td>0.0</td>\n",
       "      <td>4000</td>\n",
       "      <td>0.0</td>\n",
       "      <td>f</td>\n",
       "      <td>1</td>\n",
       "      <td>yes.</td>\n",
       "    </tr>\n",
       "  </tbody>\n",
       "</table>\n",
       "</div>"
      ],
      "text/plain": [
       "     variable1 variable2  variable3 variable4 variable5 variable6 variable7  \\\n",
       "3695         a     18,75    0,00075         u         g         q         v   \n",
       "3696         a      23,5      9e-04         u         g         q         v   \n",
       "3697         b     34,17   0,000917         u         g         c         v   \n",
       "3698         b     27,83   0,000154         u         g         W         v   \n",
       "3699         a     36,75  0,0005125         u         g         e         v   \n",
       "\n",
       "     variable8 variable9 variable10  variable11 variable12 variable13  \\\n",
       "3695      2,71         t          t           5          f          g   \n",
       "3696       8,5         t          t           5          t          g   \n",
       "3697       4,5         t          t          12          t          g   \n",
       "3698      3,75         t          t           5          t          g   \n",
       "3699         5         t          f           0          t          g   \n",
       "\n",
       "      variable14  variable15  variable17 variable18  variable19 classLabel  \n",
       "3695         NaN       26726         NaN          t           1       yes.  \n",
       "3696       120.0           0   1200000.0          t           1       yes.  \n",
       "3697         0.0         221         0.0        NaN           1       yes.  \n",
       "3698       100.0           3   1000000.0        NaN           1       yes.  \n",
       "3699         0.0        4000         0.0          f           1       yes.  "
      ]
     },
     "execution_count": 8,
     "metadata": {},
     "output_type": "execute_result"
    }
   ],
   "source": [
    "data.tail()   "
   ]
  },
  {
   "cell_type": "markdown",
   "metadata": {},
   "source": [
    "Notes : <br>\n",
    "<br>\n",
    "1- Variables 2 , 3 and 8 holds multiple values for each record (should be splitted).<br> \n",
    "<br>\n",
    "2- many columns need cleaning.<br>\n",
    "<br>\n",
    "3- variable 18 should be dropped as more than half of its values is Null <br> \n",
    "<br>\n",
    "4- I think there is a strong (may be perfect) correlation between variable 19 and classLabel (even distribution looks same for both variables) but still need further exploration in the next section.<br>\n",
    "<br>\n",
    "5- majority of target column is yes so accuracy metric probably will decieve us when building model , F1 Score should be better (will get to that later). <br>"
   ]
  },
  {
   "cell_type": "markdown",
   "metadata": {},
   "source": [
    "# Data Cleaning "
   ]
  },
  {
   "cell_type": "code",
   "execution_count": 9,
   "metadata": {},
   "outputs": [
    {
     "name": "stdout",
     "output_type": "stream",
     "text": [
      "variable1\n",
      "0.01054054054054054\n",
      "variable2\n",
      "0.01054054054054054\n",
      "variable3\n",
      "0.0\n",
      "variable4\n",
      "0.017297297297297298\n",
      "variable5\n",
      "0.017297297297297298\n",
      "variable6\n",
      "0.01783783783783784\n",
      "variable7\n",
      "0.01783783783783784\n",
      "variable8\n",
      "0.0\n",
      "variable9\n",
      "0.0\n",
      "variable10\n",
      "0.0\n",
      "variable11\n",
      "0.0\n",
      "variable12\n",
      "0.0\n",
      "variable13\n",
      "0.0\n",
      "variable14\n",
      "0.02702702702702703\n",
      "variable15\n",
      "0.0\n",
      "variable17\n",
      "0.02702702702702703\n",
      "variable18\n",
      "0.5797297297297297\n",
      "variable19\n",
      "0.0\n",
      "classLabel\n",
      "0.0\n"
     ]
    }
   ],
   "source": [
    "# check the portion of null in each column \n",
    "for col in data.columns : \n",
    "    print(col)\n",
    "    print(data[col].isna().sum()/len(data))"
   ]
  },
  {
   "cell_type": "markdown",
   "metadata": {},
   "source": [
    "so just variable 18 will be dropped and we can handle missing data in the rest "
   ]
  },
  {
   "cell_type": "code",
   "execution_count": 10,
   "metadata": {},
   "outputs": [
    {
     "name": "stdout",
     "output_type": "stream",
     "text": [
      "variable1\n",
      "b    2382\n",
      "a    1279\n",
      "Name: variable1, dtype: int64\n",
      "variable2\n",
      "23,25    64\n",
      "22,67    52\n",
      "20,42    49\n",
      "33,17    49\n",
      "19,17    49\n",
      "         ..\n",
      "21,42     1\n",
      "24,92     1\n",
      "26,83     1\n",
      "31,42     1\n",
      "45,33     1\n",
      "Name: variable2, Length: 288, dtype: int64\n",
      "variable3\n",
      "0            134\n",
      "3e-04        121\n",
      "0,00065       98\n",
      "0,00015       90\n",
      "5e-04         87\n",
      "            ... \n",
      "0,0001165      1\n",
      "6,7e-05        1\n",
      "0,000975       1\n",
      "0,0019         1\n",
      "0,0004125      1\n",
      "Name: variable3, Length: 179, dtype: int64\n",
      "variable4\n",
      "u    3055\n",
      "y     549\n",
      "l      32\n",
      "Name: variable4, dtype: int64\n",
      "variable5\n",
      "g     3055\n",
      "p      549\n",
      "gg      32\n",
      "Name: variable5, dtype: int64\n",
      "variable6\n",
      "c     787\n",
      "q     612\n",
      "W     363\n",
      "cc    343\n",
      "x     340\n",
      "aa    210\n",
      "i     191\n",
      "m     179\n",
      "k     170\n",
      "e     137\n",
      "ff    136\n",
      "d      94\n",
      "j      39\n",
      "r      33\n",
      "Name: variable6, dtype: int64\n",
      "variable7\n",
      "v     2015\n",
      "h      970\n",
      "bb     339\n",
      "ff     154\n",
      "z       49\n",
      "j       37\n",
      "n       33\n",
      "dd      20\n",
      "o       17\n",
      "Name: variable7, dtype: int64\n",
      "variable8\n",
      "0        268\n",
      "1,5      169\n",
      "0,04     127\n",
      "2,5      115\n",
      "1        111\n",
      "        ... \n",
      "3,335      1\n",
      "8,29       1\n",
      "11,5       1\n",
      "1,29       1\n",
      "2,625      1\n",
      "Name: variable8, Length: 118, dtype: int64\n",
      "variable9\n",
      "t    3171\n",
      "f     529\n",
      "Name: variable9, dtype: int64\n",
      "variable10\n",
      "t    2239\n",
      "f    1461\n",
      "Name: variable10, dtype: int64\n",
      "variable11\n",
      "0     1461\n",
      "1      367\n",
      "3      260\n",
      "2      227\n",
      "6      194\n",
      "11     193\n",
      "5      193\n",
      "7      161\n",
      "4      130\n",
      "9       80\n",
      "12      80\n",
      "15      64\n",
      "8       64\n",
      "16      48\n",
      "10      34\n",
      "14      32\n",
      "19      16\n",
      "40      16\n",
      "20      16\n",
      "17      16\n",
      "23      16\n",
      "13      16\n",
      "67      16\n",
      "Name: variable11, dtype: int64\n",
      "variable12\n",
      "f    1924\n",
      "t    1776\n",
      "Name: variable12, dtype: int64\n",
      "variable13\n",
      "g    3430\n",
      "s     189\n",
      "p      81\n",
      "Name: variable13, dtype: int64\n",
      "variable14\n",
      "0.0      954\n",
      "80.0     200\n",
      "100.0    189\n",
      "120.0    143\n",
      "200.0    119\n",
      "        ... \n",
      "62.0       1\n",
      "76.0       1\n",
      "980.0      1\n",
      "20.0       1\n",
      "254.0      1\n",
      "Name: variable14, Length: 136, dtype: int64\n",
      "variable15\n",
      "0       1437\n",
      "300       97\n",
      "500       97\n",
      "1000      84\n",
      "1         53\n",
      "        ... \n",
      "195        1\n",
      "179        1\n",
      "173        1\n",
      "141        1\n",
      "1004       1\n",
      "Name: variable15, Length: 182, dtype: int64\n",
      "variable17\n",
      "0.0          954\n",
      "800000.0     200\n",
      "1000000.0    189\n",
      "1200000.0    143\n",
      "2000000.0    119\n",
      "            ... \n",
      "2920000.0      1\n",
      "3690000.0      1\n",
      "4160000.0      1\n",
      "4650000.0      1\n",
      "1700000.0      1\n",
      "Name: variable17, Length: 136, dtype: int64\n",
      "variable18\n",
      "t    1023\n",
      "f     532\n",
      "Name: variable18, dtype: int64\n",
      "variable19\n",
      "1    3424\n",
      "0     276\n",
      "Name: variable19, dtype: int64\n",
      "classLabel\n",
      "yes.    3424\n",
      "no.      276\n",
      "Name: classLabel, dtype: int64\n"
     ]
    }
   ],
   "source": [
    "# check for value count for each column \n",
    "for col in data : \n",
    "    print(col)\n",
    "    print(data[col].value_counts())"
   ]
  },
  {
   "cell_type": "markdown",
   "metadata": {},
   "source": [
    "We will need clean function that will do the following : <br>\n",
    "<br>\n",
    "* drop variable 18 and fill the null in rest of columns by mode (since portion of missing values is small in the rest) <br>\n",
    "<br> \n",
    "* separate each value in complex columns (like variable 2) so that each value will be in a separate row "
   ]
  },
  {
   "cell_type": "code",
   "execution_count": 11,
   "metadata": {},
   "outputs": [
    {
     "data": {
      "text/plain": [
       "1    3424\n",
       "0     276\n",
       "Name: classLabel, dtype: int64"
      ]
     },
     "execution_count": 11,
     "metadata": {},
     "output_type": "execute_result"
    }
   ],
   "source": [
    "# Encode label from [no , yes] to [0,1]\n",
    "data['classLabel']= data['classLabel'].apply(lambda x : 0 if x=='no.' else 1 )\n",
    "data['classLabel'].value_counts()"
   ]
  },
  {
   "cell_type": "code",
   "execution_count": 12,
   "metadata": {},
   "outputs": [],
   "source": [
    "numeric_columns = ['variable2','variable3','variable8','variable11','variable14','variable15',\n",
    "                   'variable17','variable19','classLabel']\n",
    "categorical_columns = ['variable1','variable4','variable5','variable6','variable7','variable9','variable10'\n",
    "                      ,'variable12','variable13']\n",
    "# define dictionary to save mode of each variable to use it in testing directly "
   ]
  },
  {
   "cell_type": "code",
   "execution_count": 13,
   "metadata": {},
   "outputs": [],
   "source": [
    "def explode_columns(data,columns):\n",
    "    # change each entry in complex columns (variable 2 , variable 3 , variable 8) to list \n",
    "    for col in columns : \n",
    "        data[col] = data[col].apply(lambda x : str(x).split(','))\n",
    "    \n",
    "    # now let's explode (seperate multi values so that each value will be in separate row)\n",
    "    for col in columns : \n",
    "        data = data.explode(col)\n",
    "    \n",
    "    return data \n",
    "\n",
    "\n",
    "def clean(data): \n",
    "    processed_data=data.drop(['variable18'],axis=1)\n",
    "    # fill NA intially with big negative number \n",
    "    processed_data.fillna(-10000,inplace=True)\n",
    "    processed_data = explode_columns(processed_data,['variable2','variable3','variable8'])\n",
    "    \n",
    "    processed_data['variable3']=processed_data['variable3'].astype('float64')\n",
    "    \n",
    "    processed_data['variable8']=processed_data['variable8'].astype('int64')\n",
    "\n",
    "    # fill NA with mode (most occured value)\n",
    "    for col in processed_data.columns:\n",
    "        processed_data[col]=processed_data[col].replace(-10000,processed_data[col].mode()[0])\n",
    "        \n",
    "    processed_data['variable2']=processed_data['variable2'].astype('int64')   \n",
    "    return processed_data"
   ]
  },
  {
   "cell_type": "code",
   "execution_count": 14,
   "metadata": {},
   "outputs": [],
   "source": [
    "cleaned_data = clean(data)"
   ]
  },
  {
   "cell_type": "markdown",
   "metadata": {},
   "source": [
    "now let's view distribution of columns after cleaning "
   ]
  },
  {
   "cell_type": "code",
   "execution_count": 15,
   "metadata": {},
   "outputs": [
    {
     "data": {
      "text/plain": [
       "array([[<matplotlib.axes._subplots.AxesSubplot object at 0x0000021181D02A08>,\n",
       "        <matplotlib.axes._subplots.AxesSubplot object at 0x0000021181E82248>,\n",
       "        <matplotlib.axes._subplots.AxesSubplot object at 0x0000021181EAA408>],\n",
       "       [<matplotlib.axes._subplots.AxesSubplot object at 0x0000021181D135C8>,\n",
       "        <matplotlib.axes._subplots.AxesSubplot object at 0x0000021181DE0708>,\n",
       "        <matplotlib.axes._subplots.AxesSubplot object at 0x0000021181C52808>],\n",
       "       [<matplotlib.axes._subplots.AxesSubplot object at 0x0000021181C8B908>,\n",
       "        <matplotlib.axes._subplots.AxesSubplot object at 0x0000021181CC5A08>,\n",
       "        <matplotlib.axes._subplots.AxesSubplot object at 0x0000021181CD1608>]],\n",
       "      dtype=object)"
      ]
     },
     "execution_count": 15,
     "metadata": {},
     "output_type": "execute_result"
    },
    {
     "data": {
      "image/png": "[encoded data removed]",
      "text/plain": [
       "<Figure size 1080x1080 with 9 Axes>"
      ]
     },
     "metadata": {
      "needs_background": "light"
     },
     "output_type": "display_data"
    }
   ],
   "source": [
    "cleaned_data.hist(figsize=(15,15))"
   ]
  },
  {
   "cell_type": "code",
   "execution_count": 16,
   "metadata": {},
   "outputs": [
    {
     "data": {
      "image/png": "[encoded data removed]",
      "text/plain": [
       "<Figure size 432x288 with 1 Axes>"
      ]
     },
     "metadata": {
      "needs_background": "light"
     },
     "output_type": "display_data"
    },
    {
     "data": {
      "image/png": "[encoded data removed]",
      "text/plain": [
       "<Figure size 432x288 with 1 Axes>"
      ]
     },
     "metadata": {
      "needs_background": "light"
     },
     "output_type": "display_data"
    },
    {
     "data": {
      "image/png": "[encoded data removed]",
      "text/plain": [
       "<Figure size 432x288 with 1 Axes>"
      ]
     },
     "metadata": {
      "needs_background": "light"
     },
     "output_type": "display_data"
    },
    {
     "data": {
      "image/png": "[encoded data removed]",
      "text/plain": [
       "<Figure size 432x288 with 1 Axes>"
      ]
     },
     "metadata": {
      "needs_background": "light"
     },
     "output_type": "display_data"
    },
    {
     "data": {
      "image/png": "[encoded data removed]",
      "text/plain": [
       "<Figure size 432x288 with 1 Axes>"
      ]
     },
     "metadata": {
      "needs_background": "light"
     },
     "output_type": "display_data"
    },
    {
     "data": {
      "image/png": "[encoded data removed]",
      "text/plain": [
       "<Figure size 432x288 with 1 Axes>"
      ]
     },
     "metadata": {
      "needs_background": "light"
     },
     "output_type": "display_data"
    },
    {
     "data": {
      "image/png": "[encoded data removed]",
      "text/plain": [
       "<Figure size 432x288 with 1 Axes>"
      ]
     },
     "metadata": {
      "needs_background": "light"
     },
     "output_type": "display_data"
    },
    {
     "data": {
      "image/png": "[encoded data removed]",
      "text/plain": [
       "<Figure size 432x288 with 1 Axes>"
      ]
     },
     "metadata": {
      "needs_background": "light"
     },
     "output_type": "display_data"
    },
    {
     "data": {
      "image/png": "[encoded data removed]",
      "text/plain": [
       "<Figure size 432x288 with 1 Axes>"
      ]
     },
     "metadata": {
      "needs_background": "light"
     },
     "output_type": "display_data"
    }
   ],
   "source": [
    "# Now let's look to categorical variables \n",
    "for col in categorical_columns : \n",
    "    sns.countplot(data=cleaned_data,x=col,color=sns.color_palette()[0])\n",
    "    plt.show()"
   ]
  },
  {
   "cell_type": "code",
   "execution_count": 17,
   "metadata": {},
   "outputs": [
    {
     "data": {
      "text/html": [
       "<div>\n",
       "<style scoped>\n",
       "    .dataframe tbody tr th:only-of-type {\n",
       "        vertical-align: middle;\n",
       "    }\n",
       "\n",
       "    .dataframe tbody tr th {\n",
       "        vertical-align: top;\n",
       "    }\n",
       "\n",
       "    .dataframe thead th {\n",
       "        text-align: right;\n",
       "    }\n",
       "</style>\n",
       "<table border=\"1\" class=\"dataframe\">\n",
       "  <thead>\n",
       "    <tr style=\"text-align: right;\">\n",
       "      <th></th>\n",
       "      <th>variable2</th>\n",
       "      <th>variable3</th>\n",
       "      <th>variable8</th>\n",
       "      <th>variable11</th>\n",
       "      <th>variable14</th>\n",
       "      <th>variable15</th>\n",
       "      <th>variable17</th>\n",
       "      <th>variable19</th>\n",
       "      <th>classLabel</th>\n",
       "    </tr>\n",
       "  </thead>\n",
       "  <tbody>\n",
       "    <tr>\n",
       "      <th>variable2</th>\n",
       "      <td>1.000000</td>\n",
       "      <td>0.017943</td>\n",
       "      <td>0.024043</td>\n",
       "      <td>0.036763</td>\n",
       "      <td>0.031982</td>\n",
       "      <td>0.010698</td>\n",
       "      <td>0.031982</td>\n",
       "      <td>0.020943</td>\n",
       "      <td>0.020943</td>\n",
       "    </tr>\n",
       "    <tr>\n",
       "      <th>variable3</th>\n",
       "      <td>0.017943</td>\n",
       "      <td>1.000000</td>\n",
       "      <td>0.100541</td>\n",
       "      <td>-0.021031</td>\n",
       "      <td>0.025318</td>\n",
       "      <td>-0.053654</td>\n",
       "      <td>0.025318</td>\n",
       "      <td>0.021956</td>\n",
       "      <td>0.021956</td>\n",
       "    </tr>\n",
       "    <tr>\n",
       "      <th>variable8</th>\n",
       "      <td>0.024043</td>\n",
       "      <td>0.100541</td>\n",
       "      <td>1.000000</td>\n",
       "      <td>-0.028218</td>\n",
       "      <td>0.019274</td>\n",
       "      <td>-0.059716</td>\n",
       "      <td>0.019274</td>\n",
       "      <td>0.025765</td>\n",
       "      <td>0.025765</td>\n",
       "    </tr>\n",
       "    <tr>\n",
       "      <th>variable11</th>\n",
       "      <td>0.036763</td>\n",
       "      <td>-0.021031</td>\n",
       "      <td>-0.028218</td>\n",
       "      <td>1.000000</td>\n",
       "      <td>-0.149250</td>\n",
       "      <td>-0.013717</td>\n",
       "      <td>-0.149250</td>\n",
       "      <td>0.149700</td>\n",
       "      <td>0.149700</td>\n",
       "    </tr>\n",
       "    <tr>\n",
       "      <th>variable14</th>\n",
       "      <td>0.031982</td>\n",
       "      <td>0.025318</td>\n",
       "      <td>0.019274</td>\n",
       "      <td>-0.149250</td>\n",
       "      <td>1.000000</td>\n",
       "      <td>0.129573</td>\n",
       "      <td>1.000000</td>\n",
       "      <td>-0.053258</td>\n",
       "      <td>-0.053258</td>\n",
       "    </tr>\n",
       "    <tr>\n",
       "      <th>variable15</th>\n",
       "      <td>0.010698</td>\n",
       "      <td>-0.053654</td>\n",
       "      <td>-0.059716</td>\n",
       "      <td>-0.013717</td>\n",
       "      <td>0.129573</td>\n",
       "      <td>1.000000</td>\n",
       "      <td>0.129573</td>\n",
       "      <td>0.069847</td>\n",
       "      <td>0.069847</td>\n",
       "    </tr>\n",
       "    <tr>\n",
       "      <th>variable17</th>\n",
       "      <td>0.031982</td>\n",
       "      <td>0.025318</td>\n",
       "      <td>0.019274</td>\n",
       "      <td>-0.149250</td>\n",
       "      <td>1.000000</td>\n",
       "      <td>0.129573</td>\n",
       "      <td>1.000000</td>\n",
       "      <td>-0.053258</td>\n",
       "      <td>-0.053258</td>\n",
       "    </tr>\n",
       "    <tr>\n",
       "      <th>variable19</th>\n",
       "      <td>0.020943</td>\n",
       "      <td>0.021956</td>\n",
       "      <td>0.025765</td>\n",
       "      <td>0.149700</td>\n",
       "      <td>-0.053258</td>\n",
       "      <td>0.069847</td>\n",
       "      <td>-0.053258</td>\n",
       "      <td>1.000000</td>\n",
       "      <td>1.000000</td>\n",
       "    </tr>\n",
       "    <tr>\n",
       "      <th>classLabel</th>\n",
       "      <td>0.020943</td>\n",
       "      <td>0.021956</td>\n",
       "      <td>0.025765</td>\n",
       "      <td>0.149700</td>\n",
       "      <td>-0.053258</td>\n",
       "      <td>0.069847</td>\n",
       "      <td>-0.053258</td>\n",
       "      <td>1.000000</td>\n",
       "      <td>1.000000</td>\n",
       "    </tr>\n",
       "  </tbody>\n",
       "</table>\n",
       "</div>"
      ],
      "text/plain": [
       "            variable2  variable3  variable8  variable11  variable14  \\\n",
       "variable2    1.000000   0.017943   0.024043    0.036763    0.031982   \n",
       "variable3    0.017943   1.000000   0.100541   -0.021031    0.025318   \n",
       "variable8    0.024043   0.100541   1.000000   -0.028218    0.019274   \n",
       "variable11   0.036763  -0.021031  -0.028218    1.000000   -0.149250   \n",
       "variable14   0.031982   0.025318   0.019274   -0.149250    1.000000   \n",
       "variable15   0.010698  -0.053654  -0.059716   -0.013717    0.129573   \n",
       "variable17   0.031982   0.025318   0.019274   -0.149250    1.000000   \n",
       "variable19   0.020943   0.021956   0.025765    0.149700   -0.053258   \n",
       "classLabel   0.020943   0.021956   0.025765    0.149700   -0.053258   \n",
       "\n",
       "            variable15  variable17  variable19  classLabel  \n",
       "variable2     0.010698    0.031982    0.020943    0.020943  \n",
       "variable3    -0.053654    0.025318    0.021956    0.021956  \n",
       "variable8    -0.059716    0.019274    0.025765    0.025765  \n",
       "variable11   -0.013717   -0.149250    0.149700    0.149700  \n",
       "variable14    0.129573    1.000000   -0.053258   -0.053258  \n",
       "variable15    1.000000    0.129573    0.069847    0.069847  \n",
       "variable17    0.129573    1.000000   -0.053258   -0.053258  \n",
       "variable19    0.069847   -0.053258    1.000000    1.000000  \n",
       "classLabel    0.069847   -0.053258    1.000000    1.000000  "
      ]
     },
     "execution_count": 17,
     "metadata": {},
     "output_type": "execute_result"
    }
   ],
   "source": [
    "# let's look to correlation \n",
    "cleaned_data.corr()"
   ]
  },
  {
   "cell_type": "code",
   "execution_count": 18,
   "metadata": {},
   "outputs": [
    {
     "data": {
      "text/plain": [
       "<matplotlib.axes._subplots.AxesSubplot at 0x211838dd508>"
      ]
     },
     "execution_count": 18,
     "metadata": {},
     "output_type": "execute_result"
    },
    {
     "data": {
      "image/png": "[encoded data removed]",
      "text/plain": [
       "<Figure size 432x288 with 2 Axes>"
      ]
     },
     "metadata": {
      "needs_background": "light"
     },
     "output_type": "display_data"
    }
   ],
   "source": [
    "# Show The heatmap for correlation between columns \n",
    "sns.heatmap(cleaned_data.corr())"
   ]
  },
  {
   "cell_type": "markdown",
   "metadata": {},
   "source": [
    "* variable 19 is perfectly correlated with our Target column (classLabel)  , that's important but we shouldn't count so much on that as this might change when examine more data (validation data or when testing)"
   ]
  },
  {
   "cell_type": "markdown",
   "metadata": {},
   "source": [
    "Now let's encode categorical variables "
   ]
  },
  {
   "cell_type": "code",
   "execution_count": 19,
   "metadata": {},
   "outputs": [],
   "source": [
    "def encode_categorical(data,categorical_columns):\n",
    "    encoded_columns=pd.DataFrame()\n",
    "    for col in categorical_columns : \n",
    "        unique_values = []\n",
    "        for item in data[col].unique(): \n",
    "            unique_values.append(col + item) \n",
    "        tmp = pd.get_dummies(data[col])\n",
    "        tmp.columns = unique_values\n",
    "        encoded_columns = pd.concat([encoded_columns,tmp],axis=1)\n",
    "        \n",
    "    return encoded_columns \n"
   ]
  },
  {
   "cell_type": "code",
   "execution_count": 20,
   "metadata": {},
   "outputs": [],
   "source": [
    "categorical_encoded = encode_categorical(cleaned_data,categorical_columns)"
   ]
  },
  {
   "cell_type": "code",
   "execution_count": 21,
   "metadata": {},
   "outputs": [],
   "source": [
    "cleaned_data.drop(categorical_columns,axis=1,inplace=True)\n",
    "cleaned_data = pd.concat([cleaned_data,categorical_encoded],axis=1)"
   ]
  },
  {
   "cell_type": "code",
   "execution_count": 22,
   "metadata": {},
   "outputs": [
    {
     "data": {
      "text/plain": [
       "(22076, 49)"
      ]
     },
     "execution_count": 22,
     "metadata": {},
     "output_type": "execute_result"
    }
   ],
   "source": [
    "cleaned_data.shape"
   ]
  },
  {
   "cell_type": "code",
   "execution_count": 23,
   "metadata": {},
   "outputs": [
    {
     "data": {
      "text/html": [
       "<div>\n",
       "<style scoped>\n",
       "    .dataframe tbody tr th:only-of-type {\n",
       "        vertical-align: middle;\n",
       "    }\n",
       "\n",
       "    .dataframe tbody tr th {\n",
       "        vertical-align: top;\n",
       "    }\n",
       "\n",
       "    .dataframe thead th {\n",
       "        text-align: right;\n",
       "    }\n",
       "</style>\n",
       "<table border=\"1\" class=\"dataframe\">\n",
       "  <thead>\n",
       "    <tr style=\"text-align: right;\">\n",
       "      <th></th>\n",
       "      <th>variable2</th>\n",
       "      <th>variable3</th>\n",
       "      <th>variable8</th>\n",
       "      <th>variable11</th>\n",
       "      <th>variable14</th>\n",
       "      <th>variable15</th>\n",
       "      <th>variable17</th>\n",
       "      <th>variable19</th>\n",
       "      <th>classLabel</th>\n",
       "      <th>variable1a</th>\n",
       "      <th>...</th>\n",
       "      <th>variable7dd</th>\n",
       "      <th>variable9f</th>\n",
       "      <th>variable9t</th>\n",
       "      <th>variable10t</th>\n",
       "      <th>variable10f</th>\n",
       "      <th>variable12t</th>\n",
       "      <th>variable12f</th>\n",
       "      <th>variable13g</th>\n",
       "      <th>variable13s</th>\n",
       "      <th>variable13p</th>\n",
       "    </tr>\n",
       "  </thead>\n",
       "  <tbody>\n",
       "    <tr>\n",
       "      <th>0</th>\n",
       "      <td>17</td>\n",
       "      <td>5.00000</td>\n",
       "      <td>1</td>\n",
       "      <td>1</td>\n",
       "      <td>80.0</td>\n",
       "      <td>5</td>\n",
       "      <td>800000.0</td>\n",
       "      <td>0</td>\n",
       "      <td>0</td>\n",
       "      <td>1</td>\n",
       "      <td>...</td>\n",
       "      <td>0</td>\n",
       "      <td>1</td>\n",
       "      <td>0</td>\n",
       "      <td>0</td>\n",
       "      <td>1</td>\n",
       "      <td>0</td>\n",
       "      <td>1</td>\n",
       "      <td>1</td>\n",
       "      <td>0</td>\n",
       "      <td>0</td>\n",
       "    </tr>\n",
       "    <tr>\n",
       "      <th>0</th>\n",
       "      <td>17</td>\n",
       "      <td>5.00000</td>\n",
       "      <td>75</td>\n",
       "      <td>1</td>\n",
       "      <td>80.0</td>\n",
       "      <td>5</td>\n",
       "      <td>800000.0</td>\n",
       "      <td>0</td>\n",
       "      <td>0</td>\n",
       "      <td>1</td>\n",
       "      <td>...</td>\n",
       "      <td>0</td>\n",
       "      <td>1</td>\n",
       "      <td>0</td>\n",
       "      <td>0</td>\n",
       "      <td>1</td>\n",
       "      <td>0</td>\n",
       "      <td>1</td>\n",
       "      <td>1</td>\n",
       "      <td>0</td>\n",
       "      <td>0</td>\n",
       "    </tr>\n",
       "    <tr>\n",
       "      <th>0</th>\n",
       "      <td>17</td>\n",
       "      <td>0.00004</td>\n",
       "      <td>1</td>\n",
       "      <td>1</td>\n",
       "      <td>80.0</td>\n",
       "      <td>5</td>\n",
       "      <td>800000.0</td>\n",
       "      <td>0</td>\n",
       "      <td>0</td>\n",
       "      <td>1</td>\n",
       "      <td>...</td>\n",
       "      <td>0</td>\n",
       "      <td>1</td>\n",
       "      <td>0</td>\n",
       "      <td>0</td>\n",
       "      <td>1</td>\n",
       "      <td>0</td>\n",
       "      <td>1</td>\n",
       "      <td>1</td>\n",
       "      <td>0</td>\n",
       "      <td>0</td>\n",
       "    </tr>\n",
       "    <tr>\n",
       "      <th>0</th>\n",
       "      <td>17</td>\n",
       "      <td>0.00004</td>\n",
       "      <td>75</td>\n",
       "      <td>1</td>\n",
       "      <td>80.0</td>\n",
       "      <td>5</td>\n",
       "      <td>800000.0</td>\n",
       "      <td>0</td>\n",
       "      <td>0</td>\n",
       "      <td>1</td>\n",
       "      <td>...</td>\n",
       "      <td>0</td>\n",
       "      <td>1</td>\n",
       "      <td>0</td>\n",
       "      <td>0</td>\n",
       "      <td>1</td>\n",
       "      <td>0</td>\n",
       "      <td>1</td>\n",
       "      <td>1</td>\n",
       "      <td>0</td>\n",
       "      <td>0</td>\n",
       "    </tr>\n",
       "    <tr>\n",
       "      <th>0</th>\n",
       "      <td>92</td>\n",
       "      <td>5.00000</td>\n",
       "      <td>1</td>\n",
       "      <td>1</td>\n",
       "      <td>80.0</td>\n",
       "      <td>5</td>\n",
       "      <td>800000.0</td>\n",
       "      <td>0</td>\n",
       "      <td>0</td>\n",
       "      <td>1</td>\n",
       "      <td>...</td>\n",
       "      <td>0</td>\n",
       "      <td>1</td>\n",
       "      <td>0</td>\n",
       "      <td>0</td>\n",
       "      <td>1</td>\n",
       "      <td>0</td>\n",
       "      <td>1</td>\n",
       "      <td>1</td>\n",
       "      <td>0</td>\n",
       "      <td>0</td>\n",
       "    </tr>\n",
       "  </tbody>\n",
       "</table>\n",
       "<p>5 rows × 49 columns</p>\n",
       "</div>"
      ],
      "text/plain": [
       "   variable2  variable3  variable8  variable11  variable14  variable15  \\\n",
       "0         17    5.00000          1           1        80.0           5   \n",
       "0         17    5.00000         75           1        80.0           5   \n",
       "0         17    0.00004          1           1        80.0           5   \n",
       "0         17    0.00004         75           1        80.0           5   \n",
       "0         92    5.00000          1           1        80.0           5   \n",
       "\n",
       "   variable17  variable19  classLabel  variable1a  ...  variable7dd  \\\n",
       "0    800000.0           0           0           1  ...            0   \n",
       "0    800000.0           0           0           1  ...            0   \n",
       "0    800000.0           0           0           1  ...            0   \n",
       "0    800000.0           0           0           1  ...            0   \n",
       "0    800000.0           0           0           1  ...            0   \n",
       "\n",
       "   variable9f  variable9t  variable10t  variable10f  variable12t  variable12f  \\\n",
       "0           1           0            0            1            0            1   \n",
       "0           1           0            0            1            0            1   \n",
       "0           1           0            0            1            0            1   \n",
       "0           1           0            0            1            0            1   \n",
       "0           1           0            0            1            0            1   \n",
       "\n",
       "   variable13g  variable13s  variable13p  \n",
       "0            1            0            0  \n",
       "0            1            0            0  \n",
       "0            1            0            0  \n",
       "0            1            0            0  \n",
       "0            1            0            0  \n",
       "\n",
       "[5 rows x 49 columns]"
      ]
     },
     "execution_count": 23,
     "metadata": {},
     "output_type": "execute_result"
    }
   ],
   "source": [
    "cleaned_data.head()"
   ]
  },
  {
   "cell_type": "markdown",
   "metadata": {},
   "source": [
    "Let's look again to the correlation "
   ]
  },
  {
   "cell_type": "code",
   "execution_count": 24,
   "metadata": {},
   "outputs": [
    {
     "data": {
      "text/plain": [
       "variable2      0.020943\n",
       "variable3      0.021956\n",
       "variable8      0.025765\n",
       "variable11     0.149700\n",
       "variable14    -0.053258\n",
       "variable15     0.069847\n",
       "variable17    -0.053258\n",
       "variable19     1.000000\n",
       "classLabel     1.000000\n",
       "variable1a     0.043730\n",
       "variable1b    -0.043730\n",
       "variable4u     0.021662\n",
       "variable4y     0.104678\n",
       "variable4l    -0.110949\n",
       "variable5g     0.104678\n",
       "variable5p     0.021662\n",
       "variable5gg   -0.110949\n",
       "variable6c    -0.003257\n",
       "variable6k    -0.009687\n",
       "variable6ff    0.006854\n",
       "variable6i     0.065540\n",
       "variable6j    -0.050136\n",
       "variable6q     0.010064\n",
       "variable6W    -0.133994\n",
       "variable6d    -0.082404\n",
       "variable6m    -0.036647\n",
       "variable6cc   -0.071383\n",
       "variable6aa   -0.029339\n",
       "variable6r     0.066787\n",
       "variable6x     0.018508\n",
       "variable6e     0.079263\n",
       "variable7v     0.018533\n",
       "variable7ff   -0.023819\n",
       "variable7o    -0.128033\n",
       "variable7h     0.061625\n",
       "variable7j    -0.000788\n",
       "variable7bb    0.012554\n",
       "variable7n    -0.007984\n",
       "variable7z    -0.023227\n",
       "variable7dd    0.023011\n",
       "variable9f    -0.558831\n",
       "variable9t     0.558831\n",
       "variable10t   -0.222543\n",
       "variable10f    0.222543\n",
       "variable12t   -0.029255\n",
       "variable12f    0.029255\n",
       "variable13g    0.049738\n",
       "variable13s    0.012554\n",
       "variable13p   -0.058962\n",
       "Name: classLabel, dtype: float64"
      ]
     },
     "execution_count": 24,
     "metadata": {},
     "output_type": "execute_result"
    }
   ],
   "source": [
    "cleaned_data.corr()['classLabel']"
   ]
  },
  {
   "cell_type": "markdown",
   "metadata": {},
   "source": [
    "# Prepare Test Data "
   ]
  },
  {
   "cell_type": "code",
   "execution_count": 25,
   "metadata": {},
   "outputs": [],
   "source": [
    "X_train = cleaned_data.drop(['classLabel'],axis=1)\n",
    "y_train = cleaned_data['classLabel']"
   ]
  },
  {
   "cell_type": "code",
   "execution_count": 26,
   "metadata": {},
   "outputs": [
    {
     "data": {
      "text/html": [
       "<div>\n",
       "<style scoped>\n",
       "    .dataframe tbody tr th:only-of-type {\n",
       "        vertical-align: middle;\n",
       "    }\n",
       "\n",
       "    .dataframe tbody tr th {\n",
       "        vertical-align: top;\n",
       "    }\n",
       "\n",
       "    .dataframe thead th {\n",
       "        text-align: right;\n",
       "    }\n",
       "</style>\n",
       "<table border=\"1\" class=\"dataframe\">\n",
       "  <thead>\n",
       "    <tr style=\"text-align: right;\">\n",
       "      <th></th>\n",
       "      <th>variable1</th>\n",
       "      <th>variable2</th>\n",
       "      <th>variable3</th>\n",
       "      <th>variable4</th>\n",
       "      <th>variable5</th>\n",
       "      <th>variable6</th>\n",
       "      <th>variable7</th>\n",
       "      <th>variable8</th>\n",
       "      <th>variable9</th>\n",
       "      <th>variable10</th>\n",
       "      <th>variable11</th>\n",
       "      <th>variable12</th>\n",
       "      <th>variable13</th>\n",
       "      <th>variable14</th>\n",
       "      <th>variable15</th>\n",
       "      <th>variable17</th>\n",
       "      <th>variable18</th>\n",
       "      <th>variable19</th>\n",
       "      <th>classLabel</th>\n",
       "    </tr>\n",
       "  </thead>\n",
       "  <tbody>\n",
       "    <tr>\n",
       "      <th>0</th>\n",
       "      <td>b</td>\n",
       "      <td>32,33</td>\n",
       "      <td>0,00075</td>\n",
       "      <td>u</td>\n",
       "      <td>g</td>\n",
       "      <td>e</td>\n",
       "      <td>bb</td>\n",
       "      <td>1,585</td>\n",
       "      <td>t</td>\n",
       "      <td>f</td>\n",
       "      <td>0</td>\n",
       "      <td>t</td>\n",
       "      <td>s</td>\n",
       "      <td>420.0</td>\n",
       "      <td>0</td>\n",
       "      <td>4200000.0</td>\n",
       "      <td>NaN</td>\n",
       "      <td>1</td>\n",
       "      <td>no.</td>\n",
       "    </tr>\n",
       "    <tr>\n",
       "      <th>1</th>\n",
       "      <td>b</td>\n",
       "      <td>23,58</td>\n",
       "      <td>0,000179</td>\n",
       "      <td>u</td>\n",
       "      <td>g</td>\n",
       "      <td>c</td>\n",
       "      <td>v</td>\n",
       "      <td>0,54</td>\n",
       "      <td>f</td>\n",
       "      <td>f</td>\n",
       "      <td>0</td>\n",
       "      <td>t</td>\n",
       "      <td>g</td>\n",
       "      <td>136.0</td>\n",
       "      <td>1</td>\n",
       "      <td>1360000.0</td>\n",
       "      <td>NaN</td>\n",
       "      <td>0</td>\n",
       "      <td>no.</td>\n",
       "    </tr>\n",
       "    <tr>\n",
       "      <th>2</th>\n",
       "      <td>b</td>\n",
       "      <td>36,42</td>\n",
       "      <td>7,5e-05</td>\n",
       "      <td>y</td>\n",
       "      <td>p</td>\n",
       "      <td>d</td>\n",
       "      <td>v</td>\n",
       "      <td>0,585</td>\n",
       "      <td>f</td>\n",
       "      <td>f</td>\n",
       "      <td>0</td>\n",
       "      <td>f</td>\n",
       "      <td>g</td>\n",
       "      <td>240.0</td>\n",
       "      <td>3</td>\n",
       "      <td>2400000.0</td>\n",
       "      <td>NaN</td>\n",
       "      <td>1</td>\n",
       "      <td>no.</td>\n",
       "    </tr>\n",
       "    <tr>\n",
       "      <th>3</th>\n",
       "      <td>b</td>\n",
       "      <td>18,42</td>\n",
       "      <td>0,0010415</td>\n",
       "      <td>y</td>\n",
       "      <td>p</td>\n",
       "      <td>aa</td>\n",
       "      <td>v</td>\n",
       "      <td>0,125</td>\n",
       "      <td>t</td>\n",
       "      <td>f</td>\n",
       "      <td>0</td>\n",
       "      <td>f</td>\n",
       "      <td>g</td>\n",
       "      <td>120.0</td>\n",
       "      <td>375</td>\n",
       "      <td>1200000.0</td>\n",
       "      <td>NaN</td>\n",
       "      <td>0</td>\n",
       "      <td>no.</td>\n",
       "    </tr>\n",
       "    <tr>\n",
       "      <th>4</th>\n",
       "      <td>b</td>\n",
       "      <td>24,5</td>\n",
       "      <td>0,0013335</td>\n",
       "      <td>y</td>\n",
       "      <td>p</td>\n",
       "      <td>aa</td>\n",
       "      <td>v</td>\n",
       "      <td>0,04</td>\n",
       "      <td>f</td>\n",
       "      <td>f</td>\n",
       "      <td>0</td>\n",
       "      <td>t</td>\n",
       "      <td>g</td>\n",
       "      <td>120.0</td>\n",
       "      <td>475</td>\n",
       "      <td>1200000.0</td>\n",
       "      <td>f</td>\n",
       "      <td>1</td>\n",
       "      <td>no.</td>\n",
       "    </tr>\n",
       "  </tbody>\n",
       "</table>\n",
       "</div>"
      ],
      "text/plain": [
       "  variable1 variable2  variable3 variable4 variable5 variable6 variable7  \\\n",
       "0         b     32,33    0,00075         u         g         e        bb   \n",
       "1         b     23,58   0,000179         u         g         c         v   \n",
       "2         b     36,42    7,5e-05         y         p         d         v   \n",
       "3         b     18,42  0,0010415         y         p        aa         v   \n",
       "4         b      24,5  0,0013335         y         p        aa         v   \n",
       "\n",
       "  variable8 variable9 variable10  variable11 variable12 variable13  \\\n",
       "0     1,585         t          f           0          t          s   \n",
       "1      0,54         f          f           0          t          g   \n",
       "2     0,585         f          f           0          f          g   \n",
       "3     0,125         t          f           0          f          g   \n",
       "4      0,04         f          f           0          t          g   \n",
       "\n",
       "   variable14  variable15  variable17 variable18  variable19 classLabel  \n",
       "0       420.0           0   4200000.0        NaN           1        no.  \n",
       "1       136.0           1   1360000.0        NaN           0        no.  \n",
       "2       240.0           3   2400000.0        NaN           1        no.  \n",
       "3       120.0         375   1200000.0        NaN           0        no.  \n",
       "4       120.0         475   1200000.0          f           1        no.  "
      ]
     },
     "execution_count": 26,
     "metadata": {},
     "output_type": "execute_result"
    }
   ],
   "source": [
    "#load validataion data \n",
    "data_test = pd.read_csv('validation.csv',delimiter=';')\n",
    "data_test.head()"
   ]
  },
  {
   "cell_type": "code",
   "execution_count": 27,
   "metadata": {},
   "outputs": [],
   "source": [
    "data_test['classLabel']=data_test['classLabel'].apply(lambda x : 0 if x=='no.' else 1)"
   ]
  },
  {
   "cell_type": "code",
   "execution_count": 28,
   "metadata": {},
   "outputs": [],
   "source": [
    "test_clean = clean(data_test)"
   ]
  },
  {
   "cell_type": "code",
   "execution_count": 29,
   "metadata": {},
   "outputs": [],
   "source": [
    "categorical_encoded = encode_categorical(test_clean,categorical_columns)\n",
    "test_clean.drop(categorical_columns,axis=1,inplace=True)\n",
    "test_clean = pd.concat([test_clean,categorical_encoded],axis=1)"
   ]
  },
  {
   "cell_type": "code",
   "execution_count": 30,
   "metadata": {},
   "outputs": [],
   "source": [
    "X_test = test_clean.drop(['classLabel'],axis=1)\n",
    "y_test = test_clean['classLabel']"
   ]
  },
  {
   "cell_type": "code",
   "execution_count": 31,
   "metadata": {},
   "outputs": [
    {
     "name": "stdout",
     "output_type": "stream",
     "text": [
      "(22076, 48)\n",
      "(1268, 44)\n"
     ]
    }
   ],
   "source": [
    "print(X_train.shape)\n",
    "print(X_test.shape)"
   ]
  },
  {
   "cell_type": "code",
   "execution_count": 32,
   "metadata": {},
   "outputs": [],
   "source": [
    "# There is difference between train and test columns , let's see which columns in train not in test\n",
    "diff=X_train.columns.difference(X_test.columns)\n",
    "X_train.drop(diff,axis=1,inplace=True)"
   ]
  },
  {
   "cell_type": "code",
   "execution_count": 33,
   "metadata": {},
   "outputs": [],
   "source": [
    "# order columns to avoid any mismatch between train and test \n",
    "X_train = X_train.reindex(sorted(X_train.columns), axis=1)\n",
    "X_test  = X_test.reindex(sorted(X_test.columns), axis=1)"
   ]
  },
  {
   "cell_type": "markdown",
   "metadata": {},
   "source": [
    "# Build Model "
   ]
  },
  {
   "cell_type": "code",
   "execution_count": 34,
   "metadata": {},
   "outputs": [],
   "source": [
    "model = XGBClassifier(random_state=0)"
   ]
  },
  {
   "cell_type": "code",
   "execution_count": 35,
   "metadata": {},
   "outputs": [
    {
     "data": {
      "text/plain": [
       "XGBClassifier(base_score=0.5, booster='gbtree', colsample_bylevel=1,\n",
       "              colsample_bynode=1, colsample_bytree=1, gamma=0, gpu_id=-1,\n",
       "              importance_type='gain', interaction_constraints='',\n",
       "              learning_rate=0.300000012, max_delta_step=0, max_depth=6,\n",
       "              min_child_weight=1, missing=nan, monotone_constraints='()',\n",
       "              n_estimators=100, n_jobs=0, num_parallel_tree=1,\n",
       "              objective='binary:logistic', random_state=0, reg_alpha=0,\n",
       "              reg_lambda=1, scale_pos_weight=1, subsample=1,\n",
       "              tree_method='exact', validate_parameters=1, verbosity=None)"
      ]
     },
     "execution_count": 35,
     "metadata": {},
     "output_type": "execute_result"
    }
   ],
   "source": [
    "model.fit(X_train,y_train)"
   ]
  },
  {
   "cell_type": "code",
   "execution_count": 36,
   "metadata": {},
   "outputs": [],
   "source": [
    "y_pred = model.predict(X_test)"
   ]
  },
  {
   "cell_type": "markdown",
   "metadata": {},
   "source": [
    "Using F1 score as our metric because of class imbalance "
   ]
  },
  {
   "cell_type": "code",
   "execution_count": 37,
   "metadata": {},
   "outputs": [
    {
     "data": {
      "text/plain": [
       "0.48991113333846276"
      ]
     },
     "execution_count": 37,
     "metadata": {},
     "output_type": "execute_result"
    }
   ],
   "source": [
    "from sklearn.metrics import f1_score\n",
    "from sklearn.metrics import confusion_matrix\n",
    "f1_score(y_test, y_pred, average='weighted')"
   ]
  },
  {
   "cell_type": "code",
   "execution_count": 38,
   "metadata": {},
   "outputs": [],
   "source": [
    "#view confusion matrix values \n",
    "def confusion_matrix_plot(y_test,y_pred):\n",
    "    cm =confusion_matrix(y_test, y_pred).tolist()\n",
    "    cm =  pd.DataFrame(cm, index=['0','1'], columns=['0','1'])\n",
    "    ax = sns.heatmap(cm, cmap='Blues', annot=True,fmt=\"d\")"
   ]
  },
  {
   "cell_type": "code",
   "execution_count": 39,
   "metadata": {},
   "outputs": [
    {
     "data": {
      "image/png": "[encoded data removed]",
      "text/plain": [
       "<Figure size 432x288 with 2 Axes>"
      ]
     },
     "metadata": {
      "needs_background": "light"
     },
     "output_type": "display_data"
    }
   ],
   "source": [
    "confusion_matrix_plot(y_test,y_pred)"
   ]
  },
  {
   "cell_type": "code",
   "execution_count": 40,
   "metadata": {},
   "outputs": [],
   "source": [
    "# Let's try differnet model\n",
    "from sklearn.svm import SVC\n",
    "clf = SVC(random_state=0)"
   ]
  },
  {
   "cell_type": "code",
   "execution_count": null,
   "metadata": {},
   "outputs": [],
   "source": [
    "clf.fit(X_train,y_train)"
   ]
  },
  {
   "cell_type": "code",
   "execution_count": null,
   "metadata": {},
   "outputs": [],
   "source": [
    "y_pred = clf.predict(X_test)"
   ]
  },
  {
   "cell_type": "code",
   "execution_count": null,
   "metadata": {},
   "outputs": [],
   "source": [
    "f1_score(y_test, y_pred, average='weighted')"
   ]
  },
  {
   "cell_type": "code",
   "execution_count": null,
   "metadata": {},
   "outputs": [],
   "source": [
    "confusion_matrix_plot(y_test,y_pred)"
   ]
  }
 ],
 "metadata": {
  "kernelspec": {
   "display_name": "Python 3",
   "language": "python",
   "name": "python3"
  },
  "language_info": {
   "codemirror_mode": {
    "name": "ipython",
    "version": 3
   },
   "file_extension": ".py",
   "mimetype": "text/x-python",
   "name": "python",
   "nbconvert_exporter": "python",
   "pygments_lexer": "ipython3",
   "version": "3.7.6"
  }
 },
 "nbformat": 4,
 "nbformat_minor": 4
}
